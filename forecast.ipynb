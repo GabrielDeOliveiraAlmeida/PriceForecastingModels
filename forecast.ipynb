{
 "cells": [
  {
   "cell_type": "code",
   "execution_count": 1,
   "metadata": {},
   "outputs": [],
   "source": [
    "import pandas as pd\n",
    "import numpy as np\n",
    "import matplotlib.pyplot as plt\n",
    "import openpyxl\n",
    "import datetime\n",
    "import statsmodels.api as sm\n",
    "\n",
    "from statsmodels.graphics.tsaplots import plot_acf, plot_pacf"
   ]
  },
  {
   "cell_type": "code",
   "execution_count": null,
   "metadata": {},
   "outputs": [],
   "source": [
    "# Transforming into array\n",
    "exog = np.array(exog)\n",
    "exogForecast = np.array(exogForecast)\n",
    "\n",
    "model = sm.tsa.UnobservedComponents(demand_ts, exog=exog).fit(disp=False)\n",
    "\n",
    "out = np.concatenate([model.get_prediction(start=demand_ts.index.min(),end=demand_ts.index.max(), exog=exog).summary_frame()['mean'].values,\n",
    "                                  model.forecast(steps=horizon, exog=exogForecast).values])"
   ]
  },
  {
   "cell_type": "code",
   "execution_count": 3,
   "metadata": {},
   "outputs": [],
   "source": [
    "def create_date_range(start_date, end_date, freq): \n",
    "  return pd.date_range(\n",
    "    start = start_date,\n",
    "    end = end_date + pd.DateOffset(weeks=1),\n",
    "    freq='1M') - freq\n",
    "\n",
    "  \n",
    "\n",
    "def create_time_series(data_frame, start_date, end_date, var, freq):\n",
    "  # time series\n",
    "  time_series = pd.Series(\n",
    "      data = data_frame[var].values,\n",
    "      index = pd.date_range(start = start_date, end = end_date, freq = freq)\n",
    "    )\n",
    "\n",
    "  return(time_series)\n",
    "\n",
    "\n",
    "##  Converter o dataframe em uma serie temporal mensal\n",
    "def case_treatment(data, freq): \n",
    "  start_date = data['date'].min()\n",
    "  end_date = data['date'].max()  \n",
    "  date_range = create_date_range(start_date, end_date, freq=freq)\n",
    "  data_aux = pd.DataFrame({'date': date_range })\n",
    "\n",
    "  data = pd.merge(data_aux, data, on='date', how='left')\n",
    "\n",
    "  data = data.set_index([\"date\"], drop=True)  \n",
    "  data.interpolate(method='linear', inplace=True)\n",
    "\n",
    "  time_series = create_time_series(data, start_date, end_date, var=\"price\", freq=freq)\n",
    "  return time_series\n",
    "\n",
    "  ##  Converter o dataframe em uma serie temporal mensal\n",
    "def case_treatment_week(data, freq): \n",
    "  start_date = data['date'].min()\n",
    "  end_date = data['date'].max()  \n",
    "  date_range = create_date_range(start_date, end_date, freq=pd.offsets.MonthBegin(1))\n",
    "  data_aux = pd.DataFrame({'date': date_range })\n",
    "\n",
    "  data = pd.merge(data_aux, data, on='date', how='left')\n",
    "\n",
    "  data = data.set_index([\"date\"], drop=True)  \n",
    "  data.interpolate(method='linear', inplace=True)\n",
    "\n",
    "  time_series = create_time_series(data, start_date, end_date, var=\"price\", freq=pd.offsets.Week(1))\n",
    "  return time_series"
   ]
  },
  {
   "cell_type": "code",
   "execution_count": 61,
   "metadata": {},
   "outputs": [],
   "source": []
  },
  {
   "cell_type": "code",
   "execution_count": 8,
   "metadata": {},
   "outputs": [],
   "source": [
    "database = database[ \n",
    "  (database['product'] == \"GASOLINA COMUM\")]\n",
    "\n",
    "database = database[database['region']  == \"SUDESTE\"]\n",
    "\n",
    "start_date = database['date'].min()\n",
    "end_date = database['date'].max()  \n",
    "date_range = pd.date_range(\n",
    "    start = start_date + pd.DateOffset(weeks=1),\n",
    "    end = end_date + pd.DateOffset(weeks=1),\n",
    "    freq='W') - pd.offsets.Week(1)\n",
    "date_range\n",
    "\n",
    "data_aux = pd.DataFrame({'date': date_range })\n",
    "data = pd.merge(data_aux, database, on='date', how='left')\n",
    "data = data.set_index([\"date\"], drop=True)  \n",
    "data.interpolate(method='linear', inplace=True)\n",
    "time_series = create_time_series(data, start_date, end_date, var=\"price\", freq=pd.offsets.Week(1))\n",
    "\n"
   ]
  },
  {
   "cell_type": "code",
   "execution_count": 6,
   "metadata": {},
   "outputs": [],
   "source": [
    "time_series.to_excel('gasolina_week.xlsx')"
   ]
  },
  {
   "cell_type": "code",
   "execution_count": 9,
   "metadata": {},
   "outputs": [],
   "source": [
    "petroleo = pd.read_csv('Petróleo Brent Futuros Dados Históricos.csv')"
   ]
  },
  {
   "cell_type": "code",
   "execution_count": 10,
   "metadata": {},
   "outputs": [],
   "source": [
    "petroleo['Data'] = pd.to_datetime(petroleo['Data'], format='%d.%m.%Y')"
   ]
  },
  {
   "cell_type": "code",
   "execution_count": 11,
   "metadata": {},
   "outputs": [],
   "source": [
    "petroleo = petroleo.sort_values(by='Data')"
   ]
  },
  {
   "cell_type": "code",
   "execution_count": 17,
   "metadata": {},
   "outputs": [],
   "source": [
    "petroleo['Último'] = petroleo['Último'].str.replace(',', '.').astype(float)"
   ]
  },
  {
   "cell_type": "code",
   "execution_count": 20,
   "metadata": {},
   "outputs": [],
   "source": [
    "exog = petroleo['Último']"
   ]
  },
  {
   "cell_type": "code",
   "execution_count": 21,
   "metadata": {},
   "outputs": [
    {
     "data": {
      "text/plain": [
       "487    111.31\n",
       "486    110.64\n",
       "485    111.89\n",
       "484    113.28\n",
       "483    116.76\n",
       "        ...  \n",
       "4      102.78\n",
       "3      111.70\n",
       "2      106.65\n",
       "1      109.34\n",
       "0      112.39\n",
       "Name: Último, Length: 488, dtype: float64"
      ]
     },
     "execution_count": 21,
     "metadata": {},
     "output_type": "execute_result"
    }
   ],
   "source": [
    "exog"
   ]
  },
  {
   "cell_type": "code",
   "execution_count": 4,
   "metadata": {},
   "outputs": [],
   "source": [
    "##  Separar por regiões e cada tipo de gasolina dentro de um dicionario. \n",
    "#   Exemplo de acesso a serie db['NORTE']['GASOLINA COMUM'];\n",
    "def handler_database(database, freq): \n",
    "  db = {}\n",
    "  for region in database['region'].unique():\n",
    "    db[region] = {}\n",
    "    for product in database['product'].unique():\n",
    "      aux = database[(database['region'] == region) & (database['product'] == product)]\n",
    "      aux = aux.filter(['date', 'price'])\n",
    "      db[region][product] = case_treatment(data=aux, freq=freq)\n",
    "  return (db)"
   ]
  },
  {
   "cell_type": "code",
   "execution_count": 8,
   "metadata": {},
   "outputs": [],
   "source": [
    "def load_database_mounth(): \n",
    "  filename = 'mensal-regioes-desde-jan2013.xlsx'\n",
    "  #file_url = \"https://www.gov.br/anp/pt-br/assuntos/precos-e-defesa-da-concorrencia/precos/precos-revenda-e-de-distribuicao-combustiveis/shlp/semanal/semanal-regioes-desde-2013.xlsx\"\n",
    "  database = pd.read_excel(filename, skiprows=16)\n",
    "  ## Excluir colunas desnecessárias\n",
    "  database = database.drop([\n",
    "    'NÚMERO DE POSTOS PESQUISADOS', \n",
    "    'UNIDADE DE MEDIDA',\n",
    "    'DESVIO PADRÃO REVENDA',\n",
    "    'PREÇO MÍNIMO REVENDA',\n",
    "    'PREÇO MÁXIMO REVENDA',\n",
    "    'MARGEM MÉDIA REVENDA',\n",
    "    'COEF DE VARIAÇÃO REVENDA',\n",
    "    'PREÇO MÉDIO DISTRIBUIÇÃO',\n",
    "    'DESVIO PADRÃO DISTRIBUIÇÃO',\n",
    "    'PREÇO MÍNIMO DISTRIBUIÇÃO',\n",
    "    'PREÇO MÁXIMO DISTRIBUIÇÃO',\n",
    "    'COEF DE VARIAÇÃO DISTRIBUIÇÃO'],\n",
    "    axis=1\n",
    "  )\n",
    "  ## Renomear colunas\n",
    "  database = database.rename(columns={\n",
    "      'MÊS': 'date',\n",
    "      'REGIÃO': 'region',\n",
    "      'PRODUTO': 'product',\n",
    "      'PREÇO MÉDIO REVENDA': 'price'\n",
    "  })\n",
    "\n",
    "  return(database)\n",
    "\n",
    "def load_database_week(): \n",
    "  filename = 'semanal-regioes-desde-2013.xlsx'\n",
    "  #file_url = \"https://www.gov.br/anp/pt-br/assuntos/precos-e-defesa-da-concorrencia/precos/precos-revenda-e-de-distribuicao-combustiveis/shlp/semanal/semanal-regioes-desde-2013.xlsx\"\n",
    "  database = pd.read_excel(filename, skiprows=17)\n",
    "  ## Excluir colunas desnecessárias\n",
    "  database = database.drop([\n",
    "    'DATA FINAL',\n",
    "    'NÚMERO DE POSTOS PESQUISADOS', \n",
    "    'UNIDADE DE MEDIDA',\n",
    "    'DESVIO PADRÃO REVENDA',\n",
    "    'PREÇO MÍNIMO REVENDA',\n",
    "    'PREÇO MÁXIMO REVENDA',\n",
    "    'MARGEM MÉDIA REVENDA',\n",
    "    'COEF DE VARIAÇÃO REVENDA',\n",
    "    'PREÇO MÉDIO DISTRIBUIÇÃO',\n",
    "    'DESVIO PADRÃO DISTRIBUIÇÃO',\n",
    "    'PREÇO MÍNIMO DISTRIBUIÇÃO',\n",
    "    'PREÇO MÁXIMO DISTRIBUIÇÃO',\n",
    "    'COEF DE VARIAÇÃO DISTRIBUIÇÃO'],\n",
    "    axis=1\n",
    "  )\n",
    "  ## Renomear colunas\n",
    "  database = database.rename(columns={\n",
    "      'DATA INICIAL': 'date',\n",
    "      'REGIÃO': 'region',\n",
    "      'PRODUTO': 'product',\n",
    "      'PREÇO MÉDIO REVENDA': 'price'\n",
    "  })\n",
    "\n",
    "  return(database)"
   ]
  },
  {
   "cell_type": "code",
   "execution_count": 7,
   "metadata": {},
   "outputs": [],
   "source": [
    "start_covid = datetime.datetime(2020, 3, 1)\n",
    "\n",
    "def before_covid(date): \n",
    "  if(start_covid < date):\n",
    "    return 1\n",
    "  return 0\n",
    "\n",
    "\n",
    "def dummy_covid(database): \n",
    "  start_date = database['date'].min()\n",
    "  end_date = database['date'].max()  \n",
    "  date_range = create_date_range(start_date, end_date)\n",
    "  covid_dummy = list(map(before_covid, date_range))\n",
    "  return (covid_dummy)\n",
    "\n",
    "\n",
    "covid = dummy_covid(database)\n",
    "    "
   ]
  },
  {
   "cell_type": "code",
   "execution_count": 13,
   "metadata": {},
   "outputs": [
    {
     "ename": "NameError",
     "evalue": "name 'date_range' is not defined",
     "output_type": "error",
     "traceback": [
      "\u001b[1;31m---------------------------------------------------------------------------\u001b[0m",
      "\u001b[1;31mNameError\u001b[0m                                 Traceback (most recent call last)",
      "\u001b[1;32mc:\\Users\\Gabriel\\Documents\\MBAUSP\\TCC\\forecasting-code\\PriceForecastingModels\\forecast.ipynb Cell 6'\u001b[0m in \u001b[0;36m<module>\u001b[1;34m\u001b[0m\n\u001b[0;32m      <a href='vscode-notebook-cell:/c%3A/Users/Gabriel/Documents/MBAUSP/TCC/forecasting-code/PriceForecastingModels/forecast.ipynb#ch0000005?line=0'>1</a>\u001b[0m start_covid \u001b[39m=\u001b[39m datetime\u001b[39m.\u001b[39mdatetime(\u001b[39m2020\u001b[39m, \u001b[39m3\u001b[39m, \u001b[39m1\u001b[39m)\n\u001b[0;32m      <a href='vscode-notebook-cell:/c%3A/Users/Gabriel/Documents/MBAUSP/TCC/forecasting-code/PriceForecastingModels/forecast.ipynb#ch0000005?line=1'>2</a>\u001b[0m covid_dummy \u001b[39m=\u001b[39m []\n\u001b[1;32m----> <a href='vscode-notebook-cell:/c%3A/Users/Gabriel/Documents/MBAUSP/TCC/forecasting-code/PriceForecastingModels/forecast.ipynb#ch0000005?line=2'>3</a>\u001b[0m \u001b[39mfor\u001b[39;00m date \u001b[39min\u001b[39;00m date_range: \n\u001b[0;32m      <a href='vscode-notebook-cell:/c%3A/Users/Gabriel/Documents/MBAUSP/TCC/forecasting-code/PriceForecastingModels/forecast.ipynb#ch0000005?line=3'>4</a>\u001b[0m   \u001b[39mif\u001b[39;00m(start_covid \u001b[39m<\u001b[39m date):\n\u001b[0;32m      <a href='vscode-notebook-cell:/c%3A/Users/Gabriel/Documents/MBAUSP/TCC/forecasting-code/PriceForecastingModels/forecast.ipynb#ch0000005?line=4'>5</a>\u001b[0m     covid_dummy\u001b[39m.\u001b[39mappend(\u001b[39m1\u001b[39m)\n",
      "\u001b[1;31mNameError\u001b[0m: name 'date_range' is not defined"
     ]
    }
   ],
   "source": [
    "start_covid = datetime.datetime(2020, 3, 1)\n",
    "covid_dummy = []\n",
    "for date in date_range: \n",
    "  if(start_covid < date):\n",
    "    covid_dummy.append(1)\n",
    "  else:\n",
    "    covid_dummy.append(0)\n"
   ]
  },
  {
   "cell_type": "code",
   "execution_count": 6,
   "metadata": {},
   "outputs": [
    {
     "data": {
      "text/html": [
       "<div>\n",
       "<style scoped>\n",
       "    .dataframe tbody tr th:only-of-type {\n",
       "        vertical-align: middle;\n",
       "    }\n",
       "\n",
       "    .dataframe tbody tr th {\n",
       "        vertical-align: top;\n",
       "    }\n",
       "\n",
       "    .dataframe thead th {\n",
       "        text-align: right;\n",
       "    }\n",
       "</style>\n",
       "<table border=\"1\" class=\"dataframe\">\n",
       "  <thead>\n",
       "    <tr style=\"text-align: right;\">\n",
       "      <th></th>\n",
       "      <th>date</th>\n",
       "      <th>region</th>\n",
       "      <th>product</th>\n",
       "      <th>price</th>\n",
       "    </tr>\n",
       "  </thead>\n",
       "  <tbody>\n",
       "    <tr>\n",
       "      <th>0</th>\n",
       "      <td>2012-12-30</td>\n",
       "      <td>CENTRO OESTE</td>\n",
       "      <td>ETANOL HIDRATADO</td>\n",
       "      <td>1.962</td>\n",
       "    </tr>\n",
       "    <tr>\n",
       "      <th>1</th>\n",
       "      <td>2012-12-30</td>\n",
       "      <td>NORDESTE</td>\n",
       "      <td>ETANOL HIDRATADO</td>\n",
       "      <td>2.191</td>\n",
       "    </tr>\n",
       "    <tr>\n",
       "      <th>2</th>\n",
       "      <td>2012-12-30</td>\n",
       "      <td>NORTE</td>\n",
       "      <td>ETANOL HIDRATADO</td>\n",
       "      <td>2.314</td>\n",
       "    </tr>\n",
       "  </tbody>\n",
       "</table>\n",
       "</div>"
      ],
      "text/plain": [
       "        date        region           product  price\n",
       "0 2012-12-30  CENTRO OESTE  ETANOL HIDRATADO  1.962\n",
       "1 2012-12-30      NORDESTE  ETANOL HIDRATADO  2.191\n",
       "2 2012-12-30         NORTE  ETANOL HIDRATADO  2.314"
      ]
     },
     "execution_count": 6,
     "metadata": {},
     "output_type": "execute_result"
    }
   ],
   "source": [
    "##  Filtrar dados de interesse\n",
    "database = load_database_week()\n",
    "database = database[\n",
    "  (database['product'] == \"ETANOL HIDRATADO\") | \n",
    "  (database['product'] == \"GASOLINA COMUM\") \n",
    "  # (database['product'] == \"OLEO DIESEL\") | \n",
    "  # (database['product'] == \"OLEO DIESEL S10\")\n",
    "]\n",
    "\n",
    "database.head(3)"
   ]
  },
  {
   "cell_type": "code",
   "execution_count": 7,
   "metadata": {},
   "outputs": [
    {
     "ename": "ValueError",
     "evalue": "Length of values (113) does not match length of index (488)",
     "output_type": "error",
     "traceback": [
      "\u001b[1;31m---------------------------------------------------------------------------\u001b[0m",
      "\u001b[1;31mValueError\u001b[0m                                Traceback (most recent call last)",
      "\u001b[1;32mc:\\Users\\Gabriel\\Documents\\MBAUSP\\TCC\\forecasting-code\\PriceForecastingModels\\forecast.ipynb Cell 17'\u001b[0m in \u001b[0;36m<module>\u001b[1;34m\u001b[0m\n\u001b[1;32m----> <a href='vscode-notebook-cell:/c%3A/Users/Gabriel/Documents/MBAUSP/TCC/forecasting-code/PriceForecastingModels/forecast.ipynb#ch0000017?line=0'>1</a>\u001b[0m stack_database \u001b[39m=\u001b[39m handler_database(database, freq\u001b[39m=\u001b[39;49mpd\u001b[39m.\u001b[39;49moffsets\u001b[39m.\u001b[39;49mWeek(\u001b[39m1\u001b[39;49m))\n",
      "\u001b[1;32mc:\\Users\\Gabriel\\Documents\\MBAUSP\\TCC\\forecasting-code\\PriceForecastingModels\\forecast.ipynb Cell 12'\u001b[0m in \u001b[0;36mhandler_database\u001b[1;34m(database, freq)\u001b[0m\n\u001b[0;32m      <a href='vscode-notebook-cell:/c%3A/Users/Gabriel/Documents/MBAUSP/TCC/forecasting-code/PriceForecastingModels/forecast.ipynb#ch0000012?line=7'>8</a>\u001b[0m     aux \u001b[39m=\u001b[39m database[(database[\u001b[39m'\u001b[39m\u001b[39mregion\u001b[39m\u001b[39m'\u001b[39m] \u001b[39m==\u001b[39m region) \u001b[39m&\u001b[39m (database[\u001b[39m'\u001b[39m\u001b[39mproduct\u001b[39m\u001b[39m'\u001b[39m] \u001b[39m==\u001b[39m product)]\n\u001b[0;32m      <a href='vscode-notebook-cell:/c%3A/Users/Gabriel/Documents/MBAUSP/TCC/forecasting-code/PriceForecastingModels/forecast.ipynb#ch0000012?line=8'>9</a>\u001b[0m     aux \u001b[39m=\u001b[39m aux\u001b[39m.\u001b[39mfilter([\u001b[39m'\u001b[39m\u001b[39mdate\u001b[39m\u001b[39m'\u001b[39m, \u001b[39m'\u001b[39m\u001b[39mprice\u001b[39m\u001b[39m'\u001b[39m])\n\u001b[1;32m---> <a href='vscode-notebook-cell:/c%3A/Users/Gabriel/Documents/MBAUSP/TCC/forecasting-code/PriceForecastingModels/forecast.ipynb#ch0000012?line=9'>10</a>\u001b[0m     db[region][product] \u001b[39m=\u001b[39m case_treatment(data\u001b[39m=\u001b[39;49maux, freq\u001b[39m=\u001b[39;49mfreq)\n\u001b[0;32m     <a href='vscode-notebook-cell:/c%3A/Users/Gabriel/Documents/MBAUSP/TCC/forecasting-code/PriceForecastingModels/forecast.ipynb#ch0000012?line=10'>11</a>\u001b[0m \u001b[39mreturn\u001b[39;00m (db)\n",
      "\u001b[1;32mc:\\Users\\Gabriel\\Documents\\MBAUSP\\TCC\\forecasting-code\\PriceForecastingModels\\forecast.ipynb Cell 3'\u001b[0m in \u001b[0;36mcase_treatment\u001b[1;34m(data, freq)\u001b[0m\n\u001b[0;32m     <a href='vscode-notebook-cell:/c%3A/Users/Gabriel/Documents/MBAUSP/TCC/forecasting-code/PriceForecastingModels/forecast.ipynb#ch0000002?line=27'>28</a>\u001b[0m data \u001b[39m=\u001b[39m data\u001b[39m.\u001b[39mset_index([\u001b[39m\"\u001b[39m\u001b[39mdate\u001b[39m\u001b[39m\"\u001b[39m], drop\u001b[39m=\u001b[39m\u001b[39mTrue\u001b[39;00m)  \n\u001b[0;32m     <a href='vscode-notebook-cell:/c%3A/Users/Gabriel/Documents/MBAUSP/TCC/forecasting-code/PriceForecastingModels/forecast.ipynb#ch0000002?line=28'>29</a>\u001b[0m data\u001b[39m.\u001b[39minterpolate(method\u001b[39m=\u001b[39m\u001b[39m'\u001b[39m\u001b[39mlinear\u001b[39m\u001b[39m'\u001b[39m, inplace\u001b[39m=\u001b[39m\u001b[39mTrue\u001b[39;00m)\n\u001b[1;32m---> <a href='vscode-notebook-cell:/c%3A/Users/Gabriel/Documents/MBAUSP/TCC/forecasting-code/PriceForecastingModels/forecast.ipynb#ch0000002?line=30'>31</a>\u001b[0m time_series \u001b[39m=\u001b[39m create_time_series(data, start_date, end_date, var\u001b[39m=\u001b[39;49m\u001b[39m\"\u001b[39;49m\u001b[39mprice\u001b[39;49m\u001b[39m\"\u001b[39;49m, freq\u001b[39m=\u001b[39;49mfreq)\n\u001b[0;32m     <a href='vscode-notebook-cell:/c%3A/Users/Gabriel/Documents/MBAUSP/TCC/forecasting-code/PriceForecastingModels/forecast.ipynb#ch0000002?line=31'>32</a>\u001b[0m \u001b[39mreturn\u001b[39;00m time_series\n",
      "\u001b[1;32mc:\\Users\\Gabriel\\Documents\\MBAUSP\\TCC\\forecasting-code\\PriceForecastingModels\\forecast.ipynb Cell 3'\u001b[0m in \u001b[0;36mcreate_time_series\u001b[1;34m(data_frame, start_date, end_date, var, freq)\u001b[0m\n\u001b[0;32m      <a href='vscode-notebook-cell:/c%3A/Users/Gabriel/Documents/MBAUSP/TCC/forecasting-code/PriceForecastingModels/forecast.ipynb#ch0000002?line=8'>9</a>\u001b[0m \u001b[39mdef\u001b[39;00m \u001b[39mcreate_time_series\u001b[39m(data_frame, start_date, end_date, var, freq):\n\u001b[0;32m     <a href='vscode-notebook-cell:/c%3A/Users/Gabriel/Documents/MBAUSP/TCC/forecasting-code/PriceForecastingModels/forecast.ipynb#ch0000002?line=9'>10</a>\u001b[0m   \u001b[39m# time series\u001b[39;00m\n\u001b[1;32m---> <a href='vscode-notebook-cell:/c%3A/Users/Gabriel/Documents/MBAUSP/TCC/forecasting-code/PriceForecastingModels/forecast.ipynb#ch0000002?line=10'>11</a>\u001b[0m   time_series \u001b[39m=\u001b[39m pd\u001b[39m.\u001b[39;49mSeries(\n\u001b[0;32m     <a href='vscode-notebook-cell:/c%3A/Users/Gabriel/Documents/MBAUSP/TCC/forecasting-code/PriceForecastingModels/forecast.ipynb#ch0000002?line=11'>12</a>\u001b[0m       data \u001b[39m=\u001b[39;49m data_frame[var]\u001b[39m.\u001b[39;49mvalues,\n\u001b[0;32m     <a href='vscode-notebook-cell:/c%3A/Users/Gabriel/Documents/MBAUSP/TCC/forecasting-code/PriceForecastingModels/forecast.ipynb#ch0000002?line=12'>13</a>\u001b[0m       index \u001b[39m=\u001b[39;49m pd\u001b[39m.\u001b[39;49mdate_range(start \u001b[39m=\u001b[39;49m start_date, end \u001b[39m=\u001b[39;49m end_date, freq \u001b[39m=\u001b[39;49m freq)\n\u001b[0;32m     <a href='vscode-notebook-cell:/c%3A/Users/Gabriel/Documents/MBAUSP/TCC/forecasting-code/PriceForecastingModels/forecast.ipynb#ch0000002?line=13'>14</a>\u001b[0m     )\n\u001b[0;32m     <a href='vscode-notebook-cell:/c%3A/Users/Gabriel/Documents/MBAUSP/TCC/forecasting-code/PriceForecastingModels/forecast.ipynb#ch0000002?line=15'>16</a>\u001b[0m   \u001b[39mreturn\u001b[39;00m(time_series)\n",
      "File \u001b[1;32mc:\\Users\\Gabriel\\AppData\\Local\\Programs\\Python\\Python310\\lib\\site-packages\\pandas\\core\\series.py:442\u001b[0m, in \u001b[0;36mSeries.__init__\u001b[1;34m(self, data, index, dtype, name, copy, fastpath)\u001b[0m\n\u001b[0;32m    <a href='file:///c%3A/Users/Gabriel/AppData/Local/Programs/Python/Python310/lib/site-packages/pandas/core/series.py?line=439'>440</a>\u001b[0m     index \u001b[39m=\u001b[39m default_index(\u001b[39mlen\u001b[39m(data))\n\u001b[0;32m    <a href='file:///c%3A/Users/Gabriel/AppData/Local/Programs/Python/Python310/lib/site-packages/pandas/core/series.py?line=440'>441</a>\u001b[0m \u001b[39melif\u001b[39;00m is_list_like(data):\n\u001b[1;32m--> <a href='file:///c%3A/Users/Gabriel/AppData/Local/Programs/Python/Python310/lib/site-packages/pandas/core/series.py?line=441'>442</a>\u001b[0m     com\u001b[39m.\u001b[39;49mrequire_length_match(data, index)\n\u001b[0;32m    <a href='file:///c%3A/Users/Gabriel/AppData/Local/Programs/Python/Python310/lib/site-packages/pandas/core/series.py?line=443'>444</a>\u001b[0m \u001b[39m# create/copy the manager\u001b[39;00m\n\u001b[0;32m    <a href='file:///c%3A/Users/Gabriel/AppData/Local/Programs/Python/Python310/lib/site-packages/pandas/core/series.py?line=444'>445</a>\u001b[0m \u001b[39mif\u001b[39;00m \u001b[39misinstance\u001b[39m(data, (SingleBlockManager, SingleArrayManager)):\n",
      "File \u001b[1;32mc:\\Users\\Gabriel\\AppData\\Local\\Programs\\Python\\Python310\\lib\\site-packages\\pandas\\core\\common.py:557\u001b[0m, in \u001b[0;36mrequire_length_match\u001b[1;34m(data, index)\u001b[0m\n\u001b[0;32m    <a href='file:///c%3A/Users/Gabriel/AppData/Local/Programs/Python/Python310/lib/site-packages/pandas/core/common.py?line=552'>553</a>\u001b[0m \u001b[39m\"\"\"\u001b[39;00m\n\u001b[0;32m    <a href='file:///c%3A/Users/Gabriel/AppData/Local/Programs/Python/Python310/lib/site-packages/pandas/core/common.py?line=553'>554</a>\u001b[0m \u001b[39mCheck the length of data matches the length of the index.\u001b[39;00m\n\u001b[0;32m    <a href='file:///c%3A/Users/Gabriel/AppData/Local/Programs/Python/Python310/lib/site-packages/pandas/core/common.py?line=554'>555</a>\u001b[0m \u001b[39m\"\"\"\u001b[39;00m\n\u001b[0;32m    <a href='file:///c%3A/Users/Gabriel/AppData/Local/Programs/Python/Python310/lib/site-packages/pandas/core/common.py?line=555'>556</a>\u001b[0m \u001b[39mif\u001b[39;00m \u001b[39mlen\u001b[39m(data) \u001b[39m!=\u001b[39m \u001b[39mlen\u001b[39m(index):\n\u001b[1;32m--> <a href='file:///c%3A/Users/Gabriel/AppData/Local/Programs/Python/Python310/lib/site-packages/pandas/core/common.py?line=556'>557</a>\u001b[0m     \u001b[39mraise\u001b[39;00m \u001b[39mValueError\u001b[39;00m(\n\u001b[0;32m    <a href='file:///c%3A/Users/Gabriel/AppData/Local/Programs/Python/Python310/lib/site-packages/pandas/core/common.py?line=557'>558</a>\u001b[0m         \u001b[39m\"\u001b[39m\u001b[39mLength of values \u001b[39m\u001b[39m\"\u001b[39m\n\u001b[0;32m    <a href='file:///c%3A/Users/Gabriel/AppData/Local/Programs/Python/Python310/lib/site-packages/pandas/core/common.py?line=558'>559</a>\u001b[0m         \u001b[39mf\u001b[39m\u001b[39m\"\u001b[39m\u001b[39m(\u001b[39m\u001b[39m{\u001b[39;00m\u001b[39mlen\u001b[39m(data)\u001b[39m}\u001b[39;00m\u001b[39m) \u001b[39m\u001b[39m\"\u001b[39m\n\u001b[0;32m    <a href='file:///c%3A/Users/Gabriel/AppData/Local/Programs/Python/Python310/lib/site-packages/pandas/core/common.py?line=559'>560</a>\u001b[0m         \u001b[39m\"\u001b[39m\u001b[39mdoes not match length of index \u001b[39m\u001b[39m\"\u001b[39m\n\u001b[0;32m    <a href='file:///c%3A/Users/Gabriel/AppData/Local/Programs/Python/Python310/lib/site-packages/pandas/core/common.py?line=560'>561</a>\u001b[0m         \u001b[39mf\u001b[39m\u001b[39m\"\u001b[39m\u001b[39m(\u001b[39m\u001b[39m{\u001b[39;00m\u001b[39mlen\u001b[39m(index)\u001b[39m}\u001b[39;00m\u001b[39m)\u001b[39m\u001b[39m\"\u001b[39m\n\u001b[0;32m    <a href='file:///c%3A/Users/Gabriel/AppData/Local/Programs/Python/Python310/lib/site-packages/pandas/core/common.py?line=561'>562</a>\u001b[0m     )\n",
      "\u001b[1;31mValueError\u001b[0m: Length of values (113) does not match length of index (488)"
     ]
    }
   ],
   "source": [
    "stack_database = handler_database(database, freq=pd.offsets.Week(1))"
   ]
  },
  {
   "cell_type": "code",
   "execution_count": 7,
   "metadata": {},
   "outputs": [
    {
     "name": "stdout",
     "output_type": "stream",
     "text": [
      "<class 'pandas.core.series.Series'>\n",
      "DatetimeIndex: 111 entries, 2013-01-07 to 2022-03-07\n",
      "Freq: WOM-1MON\n",
      "Series name: None\n",
      "Non-Null Count  Dtype  \n",
      "--------------  -----  \n",
      "108 non-null    float64\n",
      "dtypes: float64(1)\n",
      "memory usage: 1.7 KB\n"
     ]
    }
   ],
   "source": [
    "data = stack_database[\"CENTRO OESTE\"]['GASOLINA COMUM']\n",
    "data.info()"
   ]
  },
  {
   "cell_type": "code",
   "execution_count": 10,
   "metadata": {},
   "outputs": [],
   "source": [
    "data = data.dropna()"
   ]
  },
  {
   "cell_type": "code",
   "execution_count": 65,
   "metadata": {},
   "outputs": [],
   "source": [
    "from pmdarima.model_selection import train_test_split\n",
    "\n",
    "test_size = 36\n",
    "train_set, test_set = train_test_split(time_series, test_size=test_size)"
   ]
  },
  {
   "cell_type": "code",
   "execution_count": 32,
   "metadata": {},
   "outputs": [
    {
     "data": {
      "text/plain": [
       "2021-11-21    6.709\n",
       "2021-11-28    6.688\n",
       "2021-12-05    6.673\n",
       "2021-12-12    6.642\n",
       "2021-12-19    6.610\n",
       "2021-12-26    6.605\n",
       "2022-01-02    6.598\n",
       "2022-01-09    6.625\n",
       "2022-01-16    6.677\n",
       "2022-01-23    6.664\n",
       "2022-01-30    6.673\n",
       "2022-02-06    6.629\n",
       "2022-02-13    6.612\n",
       "2022-02-20    6.590\n",
       "2022-02-27    6.584\n",
       "2022-03-06    6.602\n",
       "2022-03-13    7.187\n",
       "2022-03-20    7.171\n",
       "2022-03-27    7.177\n",
       "2022-04-03    7.172\n",
       "2022-04-10    7.226\n",
       "2022-04-17    7.266\n",
       "2022-04-24    7.301\n",
       "2022-05-01    7.272\n",
       "Freq: W, dtype: float64"
      ]
     },
     "execution_count": 32,
     "metadata": {},
     "output_type": "execute_result"
    }
   ],
   "source": []
  },
  {
   "cell_type": "code",
   "execution_count": 25,
   "metadata": {},
   "outputs": [
    {
     "data": {
      "image/png": "[encoded data removed]",
      "text/plain": [
       "<Figure size 1152x648 with 4 Axes>"
      ]
     },
     "metadata": {
      "needs_background": "light"
     },
     "output_type": "display_data"
    }
   ],
   "source": [
    "from statsmodels.tsa.seasonal import seasonal_decompose\n",
    "nresult = seasonal_decompose(data, model='additive')\n",
    "fig = nresult.plot()\n",
    "fig.set_size_inches((16, 9))\n"
   ]
  },
  {
   "cell_type": "code",
   "execution_count": 12,
   "metadata": {},
   "outputs": [
    {
     "data": {
      "text/plain": [
       "(0.43113811236298816,\n",
       " 0.9826227828316483,\n",
       " 1,\n",
       " 103,\n",
       " {'1%': -3.4954932834550623,\n",
       "  '5%': -2.8900369024285117,\n",
       "  '10%': -2.5819706975209726},\n",
       " -115.74635796650517)"
      ]
     },
     "execution_count": 12,
     "metadata": {},
     "output_type": "execute_result"
    }
   ],
   "source": [
    "from statsmodels.tsa.stattools import adfuller\n",
    "\n",
    "fuller_test = adfuller(train_set)\n",
    "fuller_test"
   ]
  },
  {
   "cell_type": "markdown",
   "metadata": {},
   "source": [
    "pValue (0.7123208502418145) > 0.01, - aceita-se H0\n",
    "portanto a série NÃO é estacionária"
   ]
  },
  {
   "cell_type": "code",
   "execution_count": 13,
   "metadata": {},
   "outputs": [
    {
     "data": {
      "image/png": "[encoded data removed]",
      "text/plain": [
       "<Figure size 432x288 with 1 Axes>"
      ]
     },
     "metadata": {
      "needs_background": "light"
     },
     "output_type": "display_data"
    }
   ],
   "source": [
    "data_diff = train_set.diff(periods=1)\n",
    "data_diff.drop(index=data_diff.index[0], axis=0, inplace=True)\n",
    "plt.plot(data_diff)\n",
    "plt.show()\n",
    "\n",
    "# Uma diferenciação é necessária para tornar a série estaciónaria."
   ]
  },
  {
   "cell_type": "code",
   "execution_count": 14,
   "metadata": {},
   "outputs": [
    {
     "data": {
      "image/png": "[encoded data removed]",
      "text/plain": [
       "<Figure size 432x288 with 1 Axes>"
      ]
     },
     "metadata": {
      "needs_background": "light"
     },
     "output_type": "display_data"
    }
   ],
   "source": [
    "plot_acf(train_set)\n",
    "plt.show()"
   ]
  },
  {
   "cell_type": "code",
   "execution_count": 15,
   "metadata": {},
   "outputs": [
    {
     "name": "stderr",
     "output_type": "stream",
     "text": [
      "c:\\Users\\Gabriel\\AppData\\Local\\Programs\\Python\\Python310\\lib\\site-packages\\statsmodels\\graphics\\tsaplots.py:348: FutureWarning: The default method 'yw' can produce PACF values outside of the [-1,1] interval. After 0.13, the default will change tounadjusted Yule-Walker ('ywm'). You can use this method now by setting method='ywm'.\n",
      "  warnings.warn(\n"
     ]
    },
    {
     "data": {
      "image/png": "[encoded data removed]",
      "text/plain": [
       "<Figure size 432x288 with 1 Axes>"
      ]
     },
     "metadata": {
      "needs_background": "light"
     },
     "output_type": "display_data"
    }
   ],
   "source": [
    "plot_pacf(train_set)\n",
    "plt.show()"
   ]
  },
  {
   "cell_type": "code",
   "execution_count": 16,
   "metadata": {},
   "outputs": [
    {
     "data": {
      "image/png": "[encoded data removed]",
      "text/plain": [
       "<Figure size 432x288 with 1 Axes>"
      ]
     },
     "metadata": {
      "needs_background": "light"
     },
     "output_type": "display_data"
    }
   ],
   "source": [
    "plt.plot(train_set.index, train_set)\n",
    "plt.plot(test_set.index, test_set)\n",
    "plt.show()"
   ]
  },
  {
   "cell_type": "code",
   "execution_count": 33,
   "metadata": {},
   "outputs": [],
   "source": [
    "from pmdarima.arima import auto_arima\n",
    "\n",
    "model = auto_arima(train_set)"
   ]
  },
  {
   "cell_type": "code",
   "execution_count": 34,
   "metadata": {},
   "outputs": [
    {
     "data": {
      "text/html": [
       "<table class=\"simpletable\">\n",
       "<caption>SARIMAX Results</caption>\n",
       "<tr>\n",
       "  <th>Dep. Variable:</th>           <td>y</td>        <th>  No. Observations:  </th>    <td>464</td>   \n",
       "</tr>\n",
       "<tr>\n",
       "  <th>Model:</th>           <td>SARIMAX(1, 2, 2)</td> <th>  Log Likelihood     </th>  <td>896.816</td> \n",
       "</tr>\n",
       "<tr>\n",
       "  <th>Date:</th>            <td>Wed, 15 Jun 2022</td> <th>  AIC                </th> <td>-1785.632</td>\n",
       "</tr>\n",
       "<tr>\n",
       "  <th>Time:</th>                <td>19:18:35</td>     <th>  BIC                </th> <td>-1769.090</td>\n",
       "</tr>\n",
       "<tr>\n",
       "  <th>Sample:</th>                  <td>0</td>        <th>  HQIC               </th> <td>-1779.119</td>\n",
       "</tr>\n",
       "<tr>\n",
       "  <th></th>                      <td> - 464</td>      <th>                     </th>     <td> </td>    \n",
       "</tr>\n",
       "<tr>\n",
       "  <th>Covariance Type:</th>        <td>opg</td>       <th>                     </th>     <td> </td>    \n",
       "</tr>\n",
       "</table>\n",
       "<table class=\"simpletable\">\n",
       "<tr>\n",
       "     <td></td>       <th>coef</th>     <th>std err</th>      <th>z</th>      <th>P>|z|</th>  <th>[0.025</th>    <th>0.975]</th>  \n",
       "</tr>\n",
       "<tr>\n",
       "  <th>ar.L1</th>  <td>    0.6629</td> <td>    0.065</td> <td>   10.168</td> <td> 0.000</td> <td>    0.535</td> <td>    0.791</td>\n",
       "</tr>\n",
       "<tr>\n",
       "  <th>ma.L1</th>  <td>   -1.2430</td> <td>    0.073</td> <td>  -16.991</td> <td> 0.000</td> <td>   -1.386</td> <td>   -1.100</td>\n",
       "</tr>\n",
       "<tr>\n",
       "  <th>ma.L2</th>  <td>    0.2548</td> <td>    0.066</td> <td>    3.841</td> <td> 0.000</td> <td>    0.125</td> <td>    0.385</td>\n",
       "</tr>\n",
       "<tr>\n",
       "  <th>sigma2</th> <td>    0.0012</td> <td> 2.54e-05</td> <td>   47.322</td> <td> 0.000</td> <td>    0.001</td> <td>    0.001</td>\n",
       "</tr>\n",
       "</table>\n",
       "<table class=\"simpletable\">\n",
       "<tr>\n",
       "  <th>Ljung-Box (L1) (Q):</th>     <td>0.01</td> <th>  Jarque-Bera (JB):  </th> <td>6299.02</td>\n",
       "</tr>\n",
       "<tr>\n",
       "  <th>Prob(Q):</th>                <td>0.92</td> <th>  Prob(JB):          </th>  <td>0.00</td>  \n",
       "</tr>\n",
       "<tr>\n",
       "  <th>Heteroskedasticity (H):</th> <td>2.49</td> <th>  Skew:              </th>  <td>2.37</td>  \n",
       "</tr>\n",
       "<tr>\n",
       "  <th>Prob(H) (two-sided):</th>    <td>0.00</td> <th>  Kurtosis:          </th>  <td>20.46</td> \n",
       "</tr>\n",
       "</table><br/><br/>Warnings:<br/>[1] Covariance matrix calculated using the outer product of gradients (complex-step)."
      ],
      "text/plain": [
       "<class 'statsmodels.iolib.summary.Summary'>\n",
       "\"\"\"\n",
       "                               SARIMAX Results                                \n",
       "==============================================================================\n",
       "Dep. Variable:                      y   No. Observations:                  464\n",
       "Model:               SARIMAX(1, 2, 2)   Log Likelihood                 896.816\n",
       "Date:                Wed, 15 Jun 2022   AIC                          -1785.632\n",
       "Time:                        19:18:35   BIC                          -1769.090\n",
       "Sample:                             0   HQIC                         -1779.119\n",
       "                                - 464                                         \n",
       "Covariance Type:                  opg                                         \n",
       "==============================================================================\n",
       "                 coef    std err          z      P>|z|      [0.025      0.975]\n",
       "------------------------------------------------------------------------------\n",
       "ar.L1          0.6629      0.065     10.168      0.000       0.535       0.791\n",
       "ma.L1         -1.2430      0.073    -16.991      0.000      -1.386      -1.100\n",
       "ma.L2          0.2548      0.066      3.841      0.000       0.125       0.385\n",
       "sigma2         0.0012   2.54e-05     47.322      0.000       0.001       0.001\n",
       "===================================================================================\n",
       "Ljung-Box (L1) (Q):                   0.01   Jarque-Bera (JB):              6299.02\n",
       "Prob(Q):                              0.92   Prob(JB):                         0.00\n",
       "Heteroskedasticity (H):               2.49   Skew:                             2.37\n",
       "Prob(H) (two-sided):                  0.00   Kurtosis:                        20.46\n",
       "===================================================================================\n",
       "\n",
       "Warnings:\n",
       "[1] Covariance matrix calculated using the outer product of gradients (complex-step).\n",
       "\"\"\""
      ]
     },
     "execution_count": 34,
     "metadata": {},
     "output_type": "execute_result"
    }
   ],
   "source": [
    "model.summary()"
   ]
  },
  {
   "cell_type": "code",
   "execution_count": 73,
   "metadata": {},
   "outputs": [],
   "source": [
    "from pmdarima.arima import auto_arima\n",
    "model = auto_arima(train_set, X=exog_train, suppress_warnings=True)\n"
   ]
  },
  {
   "cell_type": "code",
   "execution_count": 46,
   "metadata": {},
   "outputs": [
    {
     "data": {
      "text/html": [
       "<table class=\"simpletable\">\n",
       "<caption>SARIMAX Results</caption>\n",
       "<tr>\n",
       "  <th>Dep. Variable:</th>           <td>y</td>        <th>  No. Observations:  </th>    <td>464</td>   \n",
       "</tr>\n",
       "<tr>\n",
       "  <th>Model:</th>           <td>SARIMAX(1, 2, 2)</td> <th>  Log Likelihood     </th>  <td>896.942</td> \n",
       "</tr>\n",
       "<tr>\n",
       "  <th>Date:</th>            <td>Wed, 15 Jun 2022</td> <th>  AIC                </th> <td>-1783.883</td>\n",
       "</tr>\n",
       "<tr>\n",
       "  <th>Time:</th>                <td>19:37:56</td>     <th>  BIC                </th> <td>-1763.206</td>\n",
       "</tr>\n",
       "<tr>\n",
       "  <th>Sample:</th>                  <td>0</td>        <th>  HQIC               </th> <td>-1775.742</td>\n",
       "</tr>\n",
       "<tr>\n",
       "  <th></th>                      <td> - 464</td>      <th>                     </th>     <td> </td>    \n",
       "</tr>\n",
       "<tr>\n",
       "  <th>Covariance Type:</th>        <td>opg</td>       <th>                     </th>     <td> </td>    \n",
       "</tr>\n",
       "</table>\n",
       "<table class=\"simpletable\">\n",
       "<tr>\n",
       "     <td></td>       <th>coef</th>     <th>std err</th>      <th>z</th>      <th>P>|z|</th>  <th>[0.025</th>    <th>0.975]</th>  \n",
       "</tr>\n",
       "<tr>\n",
       "  <th>x1</th>     <td>    0.0003</td> <td>    0.001</td> <td>    0.477</td> <td> 0.633</td> <td>   -0.001</td> <td>    0.002</td>\n",
       "</tr>\n",
       "<tr>\n",
       "  <th>ar.L1</th>  <td>    0.6575</td> <td>    0.068</td> <td>    9.737</td> <td> 0.000</td> <td>    0.525</td> <td>    0.790</td>\n",
       "</tr>\n",
       "<tr>\n",
       "  <th>ma.L1</th>  <td>   -1.2373</td> <td>    0.076</td> <td>  -16.354</td> <td> 0.000</td> <td>   -1.386</td> <td>   -1.089</td>\n",
       "</tr>\n",
       "<tr>\n",
       "  <th>ma.L2</th>  <td>    0.2495</td> <td>    0.068</td> <td>    3.654</td> <td> 0.000</td> <td>    0.116</td> <td>    0.383</td>\n",
       "</tr>\n",
       "<tr>\n",
       "  <th>sigma2</th> <td>    0.0012</td> <td> 3.04e-05</td> <td>   39.482</td> <td> 0.000</td> <td>    0.001</td> <td>    0.001</td>\n",
       "</tr>\n",
       "</table>\n",
       "<table class=\"simpletable\">\n",
       "<tr>\n",
       "  <th>Ljung-Box (L1) (Q):</th>     <td>0.01</td> <th>  Jarque-Bera (JB):  </th> <td>6129.23</td>\n",
       "</tr>\n",
       "<tr>\n",
       "  <th>Prob(Q):</th>                <td>0.91</td> <th>  Prob(JB):          </th>  <td>0.00</td>  \n",
       "</tr>\n",
       "<tr>\n",
       "  <th>Heteroskedasticity (H):</th> <td>2.53</td> <th>  Skew:              </th>  <td>2.35</td>  \n",
       "</tr>\n",
       "<tr>\n",
       "  <th>Prob(H) (two-sided):</th>    <td>0.00</td> <th>  Kurtosis:          </th>  <td>20.22</td> \n",
       "</tr>\n",
       "</table><br/><br/>Warnings:<br/>[1] Covariance matrix calculated using the outer product of gradients (complex-step)."
      ],
      "text/plain": [
       "<class 'statsmodels.iolib.summary.Summary'>\n",
       "\"\"\"\n",
       "                               SARIMAX Results                                \n",
       "==============================================================================\n",
       "Dep. Variable:                      y   No. Observations:                  464\n",
       "Model:               SARIMAX(1, 2, 2)   Log Likelihood                 896.942\n",
       "Date:                Wed, 15 Jun 2022   AIC                          -1783.883\n",
       "Time:                        19:37:56   BIC                          -1763.206\n",
       "Sample:                             0   HQIC                         -1775.742\n",
       "                                - 464                                         \n",
       "Covariance Type:                  opg                                         \n",
       "==============================================================================\n",
       "                 coef    std err          z      P>|z|      [0.025      0.975]\n",
       "------------------------------------------------------------------------------\n",
       "x1             0.0003      0.001      0.477      0.633      -0.001       0.002\n",
       "ar.L1          0.6575      0.068      9.737      0.000       0.525       0.790\n",
       "ma.L1         -1.2373      0.076    -16.354      0.000      -1.386      -1.089\n",
       "ma.L2          0.2495      0.068      3.654      0.000       0.116       0.383\n",
       "sigma2         0.0012   3.04e-05     39.482      0.000       0.001       0.001\n",
       "===================================================================================\n",
       "Ljung-Box (L1) (Q):                   0.01   Jarque-Bera (JB):              6129.23\n",
       "Prob(Q):                              0.91   Prob(JB):                         0.00\n",
       "Heteroskedasticity (H):               2.53   Skew:                             2.35\n",
       "Prob(H) (two-sided):                  0.00   Kurtosis:                        20.22\n",
       "===================================================================================\n",
       "\n",
       "Warnings:\n",
       "[1] Covariance matrix calculated using the outer product of gradients (complex-step).\n",
       "\"\"\""
      ]
     },
     "execution_count": 46,
     "metadata": {},
     "output_type": "execute_result"
    }
   ],
   "source": [
    "model.summary()"
   ]
  },
  {
   "cell_type": "code",
   "execution_count": 66,
   "metadata": {},
   "outputs": [],
   "source": [
    "exog_train = exog[:-36].values.reshape(-1,1)\n",
    "exog_test = exog[-36:].values.reshape(-1,1)"
   ]
  },
  {
   "cell_type": "code",
   "execution_count": 44,
   "metadata": {},
   "outputs": [
    {
     "data": {
      "text/plain": [
       "array([[111.31],\n",
       "       [110.64],\n",
       "       [111.89],\n",
       "       [113.28],\n",
       "       [116.76],\n",
       "       [118.9 ],\n",
       "       [117.66],\n",
       "       [114.1 ],\n",
       "       [110.4 ],\n",
       "       [110.85],\n",
       "       [109.82],\n",
       "       [107.66],\n",
       "       [110.02],\n",
       "       [104.12],\n",
       "       [103.11],\n",
       "       [ 99.65],\n",
       "       [103.16],\n",
       "       [104.19],\n",
       "       [103.91],\n",
       "       [104.64],\n",
       "       [102.64],\n",
       "       [100.39],\n",
       "       [104.56],\n",
       "       [105.93],\n",
       "       [100.91],\n",
       "       [102.16],\n",
       "       [107.72],\n",
       "       [108.81],\n",
       "       [108.07],\n",
       "       [107.17],\n",
       "       [108.95],\n",
       "       [108.22],\n",
       "       [110.4 ],\n",
       "       [111.04],\n",
       "       [114.01],\n",
       "       [116.12],\n",
       "       [112.78],\n",
       "       [109.22],\n",
       "       [108.63],\n",
       "       [109.46],\n",
       "       [111.28],\n",
       "       [109.94],\n",
       "       [106.93],\n",
       "       [105.91],\n",
       "       [105.12],\n",
       "       [108.5 ],\n",
       "       [111.05],\n",
       "       [109.69],\n",
       "       [111.61],\n",
       "       [108.83],\n",
       "       [111.77],\n",
       "       [112.18],\n",
       "       [106.89],\n",
       "       [107.25],\n",
       "       [106.48],\n",
       "       [107.88],\n",
       "       [106.4 ],\n",
       "       [109.57],\n",
       "       [109.08],\n",
       "       [109.85],\n",
       "       [109.07],\n",
       "       [109.  ],\n",
       "       [108.57],\n",
       "       [106.92],\n",
       "       [108.07],\n",
       "       [106.72],\n",
       "       [107.33],\n",
       "       [109.53],\n",
       "       [109.58],\n",
       "       [108.59],\n",
       "       [107.89],\n",
       "       [109.75],\n",
       "       [110.54],\n",
       "       [109.41],\n",
       "       [108.61],\n",
       "       [113.41],\n",
       "       [114.81],\n",
       "       [113.3 ],\n",
       "       [110.64],\n",
       "       [106.66],\n",
       "       [107.24],\n",
       "       [108.39],\n",
       "       [104.84],\n",
       "       [105.02],\n",
       "       [103.53],\n",
       "       [102.29],\n",
       "       [103.19],\n",
       "       [100.82],\n",
       "       [ 97.11],\n",
       "       [ 98.39],\n",
       "       [ 97.  ],\n",
       "       [ 92.31],\n",
       "       [ 90.21],\n",
       "       [ 86.16],\n",
       "       [ 86.13],\n",
       "       [ 85.86],\n",
       "       [ 83.39],\n",
       "       [ 79.41],\n",
       "       [ 80.36],\n",
       "       [ 70.15],\n",
       "       [ 69.07],\n",
       "       [ 61.85],\n",
       "       [ 61.38],\n",
       "       [ 59.45],\n",
       "       [ 56.42],\n",
       "       [ 50.11],\n",
       "       [ 50.17],\n",
       "       [ 48.79],\n",
       "       [ 52.99],\n",
       "       [ 57.8 ],\n",
       "       [ 61.52],\n",
       "       [ 60.22],\n",
       "       [ 62.58],\n",
       "       [ 59.73],\n",
       "       [ 54.67],\n",
       "       [ 55.32],\n",
       "       [ 56.41],\n",
       "       [ 54.95],\n",
       "       [ 57.87],\n",
       "       [ 63.45],\n",
       "       [ 65.28],\n",
       "       [ 66.46],\n",
       "       [ 65.39],\n",
       "       [ 66.81],\n",
       "       [ 65.37],\n",
       "       [ 65.56],\n",
       "       [ 63.31],\n",
       "       [ 63.87],\n",
       "       [ 63.02],\n",
       "       [ 63.26],\n",
       "       [ 60.32],\n",
       "       [ 58.73],\n",
       "       [ 57.1 ],\n",
       "       [ 54.62],\n",
       "       [ 52.21],\n",
       "       [ 48.61],\n",
       "       [ 49.03],\n",
       "       [ 45.46],\n",
       "       [ 50.05],\n",
       "       [ 49.61],\n",
       "       [ 48.14],\n",
       "       [ 47.47],\n",
       "       [ 48.6 ],\n",
       "       [ 48.13],\n",
       "       [ 52.65],\n",
       "       [ 50.46],\n",
       "       [ 47.99],\n",
       "       [ 49.56],\n",
       "       [ 47.42],\n",
       "       [ 43.61],\n",
       "       [ 44.66],\n",
       "       [ 44.86],\n",
       "       [ 43.  ],\n",
       "       [ 37.93],\n",
       "       [ 36.88],\n",
       "       [ 37.89],\n",
       "       [ 37.28],\n",
       "       [ 33.55],\n",
       "       [ 28.94],\n",
       "       [ 32.18],\n",
       "       [ 34.74],\n",
       "       [ 34.06],\n",
       "       [ 33.36],\n",
       "       [ 33.01],\n",
       "       [ 35.1 ],\n",
       "       [ 38.72],\n",
       "       [ 40.39],\n",
       "       [ 41.2 ],\n",
       "       [ 40.44],\n",
       "       [ 38.67],\n",
       "       [ 41.94],\n",
       "       [ 43.1 ],\n",
       "       [ 45.11],\n",
       "       [ 48.13],\n",
       "       [ 45.37],\n",
       "       [ 47.83],\n",
       "       [ 48.72],\n",
       "       [ 49.32],\n",
       "       [ 49.64],\n",
       "       [ 50.54],\n",
       "       [ 49.17],\n",
       "       [ 48.41],\n",
       "       [ 50.35],\n",
       "       [ 46.76],\n",
       "       [ 47.61],\n",
       "       [ 45.69],\n",
       "       [ 42.46],\n",
       "       [ 44.27],\n",
       "       [ 46.97],\n",
       "       [ 50.88],\n",
       "       [ 49.92],\n",
       "       [ 46.83],\n",
       "       [ 48.01],\n",
       "       [ 45.77],\n",
       "       [ 45.89],\n",
       "       [ 49.06],\n",
       "       [ 51.93],\n",
       "       [ 51.95],\n",
       "       [ 51.78],\n",
       "       [ 49.71],\n",
       "       [ 45.58],\n",
       "       [ 44.75],\n",
       "       [ 46.86],\n",
       "       [ 47.24],\n",
       "       [ 54.46],\n",
       "       [ 54.33],\n",
       "       [ 55.21],\n",
       "       [ 55.16],\n",
       "       [ 56.82],\n",
       "       [ 57.1 ],\n",
       "       [ 55.45],\n",
       "       [ 55.49],\n",
       "       [ 55.52],\n",
       "       [ 56.81],\n",
       "       [ 56.7 ],\n",
       "       [ 55.81],\n",
       "       [ 55.99],\n",
       "       [ 55.9 ],\n",
       "       [ 51.37],\n",
       "       [ 51.76],\n",
       "       [ 50.8 ],\n",
       "       [ 52.83],\n",
       "       [ 55.24],\n",
       "       [ 55.89],\n",
       "       [ 51.96],\n",
       "       [ 51.73],\n",
       "       [ 49.1 ],\n",
       "       [ 50.84],\n",
       "       [ 53.61],\n",
       "       [ 52.15],\n",
       "       [ 49.95],\n",
       "       [ 48.15],\n",
       "       [ 47.37],\n",
       "       [ 45.54],\n",
       "       [ 47.92],\n",
       "       [ 46.71],\n",
       "       [ 48.91],\n",
       "       [ 48.06],\n",
       "       [ 52.52],\n",
       "       [ 52.42],\n",
       "       [ 52.1 ],\n",
       "       [ 52.72],\n",
       "       [ 52.41],\n",
       "       [ 52.75],\n",
       "       [ 53.78],\n",
       "       [ 55.62],\n",
       "       [ 56.86],\n",
       "       [ 57.54],\n",
       "       [ 55.62],\n",
       "       [ 57.17],\n",
       "       [ 57.75],\n",
       "       [ 60.44],\n",
       "       [ 62.07],\n",
       "       [ 63.52],\n",
       "       [ 62.72],\n",
       "       [ 63.86],\n",
       "       [ 63.73],\n",
       "       [ 63.4 ],\n",
       "       [ 63.23],\n",
       "       [ 65.25],\n",
       "       [ 66.87],\n",
       "       [ 67.62],\n",
       "       [ 69.87],\n",
       "       [ 68.61],\n",
       "       [ 70.52],\n",
       "       [ 68.58],\n",
       "       [ 62.79],\n",
       "       [ 64.84],\n",
       "       [ 67.31],\n",
       "       [ 64.37],\n",
       "       [ 65.49],\n",
       "       [ 66.21],\n",
       "       [ 70.45],\n",
       "       [ 70.27],\n",
       "       [ 67.11],\n",
       "       [ 72.58],\n",
       "       [ 74.06],\n",
       "       [ 74.64],\n",
       "       [ 74.87],\n",
       "       [ 77.12],\n",
       "       [ 78.51],\n",
       "       [ 76.44],\n",
       "       [ 76.79],\n",
       "       [ 76.46],\n",
       "       [ 73.44],\n",
       "       [ 75.55],\n",
       "       [ 79.44],\n",
       "       [ 77.11],\n",
       "       [ 75.33],\n",
       "       [ 73.07],\n",
       "       [ 74.29],\n",
       "       [ 73.21],\n",
       "       [ 72.81],\n",
       "       [ 71.83],\n",
       "       [ 75.82],\n",
       "       [ 77.42],\n",
       "       [ 76.83],\n",
       "       [ 78.09],\n",
       "       [ 78.8 ],\n",
       "       [ 82.72],\n",
       "       [ 84.16],\n",
       "       [ 80.43],\n",
       "       [ 79.78],\n",
       "       [ 77.62],\n",
       "       [ 72.83],\n",
       "       [ 70.18],\n",
       "       [ 66.76],\n",
       "       [ 58.8 ],\n",
       "       [ 58.71],\n",
       "       [ 61.67],\n",
       "       [ 60.28],\n",
       "       [ 53.82],\n",
       "       [ 52.2 ],\n",
       "       [ 57.06],\n",
       "       [ 60.48],\n",
       "       [ 62.7 ],\n",
       "       [ 61.64],\n",
       "       [ 62.75],\n",
       "       [ 62.1 ],\n",
       "       [ 66.25],\n",
       "       [ 67.12],\n",
       "       [ 65.07],\n",
       "       [ 65.74],\n",
       "       [ 67.16],\n",
       "       [ 67.03],\n",
       "       [ 68.39],\n",
       "       [ 70.34],\n",
       "       [ 71.55],\n",
       "       [ 71.97],\n",
       "       [ 72.15],\n",
       "       [ 70.85],\n",
       "       [ 70.62],\n",
       "       [ 72.21],\n",
       "       [ 68.69],\n",
       "       [ 64.49],\n",
       "       [ 63.29],\n",
       "       [ 62.01],\n",
       "       [ 65.2 ],\n",
       "       [ 66.55],\n",
       "       [ 64.23],\n",
       "       [ 66.72],\n",
       "       [ 62.47],\n",
       "       [ 63.46],\n",
       "       [ 61.89],\n",
       "       [ 58.53],\n",
       "       [ 58.64],\n",
       "       [ 59.34],\n",
       "       [ 60.43],\n",
       "       [ 61.54],\n",
       "       [ 60.22],\n",
       "       [ 64.28],\n",
       "       [ 61.91],\n",
       "       [ 58.37],\n",
       "       [ 60.51],\n",
       "       [ 59.42],\n",
       "       [ 62.02],\n",
       "       [ 61.69],\n",
       "       [ 62.51],\n",
       "       [ 63.3 ],\n",
       "       [ 63.39],\n",
       "       [ 62.43],\n",
       "       [ 64.39],\n",
       "       [ 65.22],\n",
       "       [ 66.14],\n",
       "       [ 68.16],\n",
       "       [ 68.6 ],\n",
       "       [ 64.98],\n",
       "       [ 64.85],\n",
       "       [ 60.69],\n",
       "       [ 58.16],\n",
       "       [ 54.47],\n",
       "       [ 57.32],\n",
       "       [ 58.5 ],\n",
       "       [ 50.52],\n",
       "       [ 45.27],\n",
       "       [ 33.85],\n",
       "       [ 26.98],\n",
       "       [ 24.93],\n",
       "       [ 34.11],\n",
       "       [ 31.48],\n",
       "       [ 28.08],\n",
       "       [ 21.44],\n",
       "       [ 26.44],\n",
       "       [ 30.97],\n",
       "       [ 32.5 ],\n",
       "       [ 35.13],\n",
       "       [ 35.33],\n",
       "       [ 42.3 ],\n",
       "       [ 38.73],\n",
       "       [ 42.19],\n",
       "       [ 41.02],\n",
       "       [ 42.8 ],\n",
       "       [ 43.24],\n",
       "       [ 43.14],\n",
       "       [ 43.34],\n",
       "       [ 43.3 ],\n",
       "       [ 44.4 ],\n",
       "       [ 44.8 ],\n",
       "       [ 44.35],\n",
       "       [ 45.05],\n",
       "       [ 42.66],\n",
       "       [ 39.83],\n",
       "       [ 43.15],\n",
       "       [ 41.92],\n",
       "       [ 39.27],\n",
       "       [ 42.85],\n",
       "       [ 42.93],\n",
       "       [ 41.77],\n",
       "       [ 37.46],\n",
       "       [ 39.45],\n",
       "       [ 42.78],\n",
       "       [ 44.96],\n",
       "       [ 48.18],\n",
       "       [ 49.25],\n",
       "       [ 49.97],\n",
       "       [ 52.26],\n",
       "       [ 51.29],\n",
       "       [ 51.8 ],\n",
       "       [ 55.99],\n",
       "       [ 55.1 ],\n",
       "       [ 55.41],\n",
       "       [ 55.88],\n",
       "       [ 59.34],\n",
       "       [ 62.43],\n",
       "       [ 62.91],\n",
       "       [ 66.13],\n",
       "       [ 69.36],\n",
       "       [ 69.22],\n",
       "       [ 64.53],\n",
       "       [ 64.57],\n",
       "       [ 64.86],\n",
       "       [ 62.95],\n",
       "       [ 66.77],\n",
       "       [ 66.11],\n",
       "       [ 67.25],\n",
       "       [ 68.28],\n",
       "       [ 68.71],\n",
       "       [ 66.44],\n",
       "       [ 69.63],\n",
       "       [ 71.89],\n",
       "       [ 72.69],\n",
       "       [ 73.51],\n",
       "       [ 76.18],\n",
       "       [ 76.17],\n",
       "       [ 75.55],\n",
       "       [ 73.59],\n",
       "       [ 74.1 ],\n",
       "       [ 76.33],\n",
       "       [ 70.7 ],\n",
       "       [ 70.59],\n",
       "       [ 65.18],\n",
       "       [ 72.7 ],\n",
       "       [ 72.61],\n",
       "       [ 72.92],\n",
       "       [ 75.34],\n",
       "       [ 78.09],\n",
       "       [ 79.28],\n",
       "       [ 82.39],\n",
       "       [ 84.86],\n",
       "       [ 85.53],\n",
       "       [ 84.38],\n",
       "       [ 82.74],\n",
       "       [ 82.17],\n",
       "       [ 78.89]])"
      ]
     },
     "execution_count": 44,
     "metadata": {},
     "output_type": "execute_result"
    }
   ],
   "source": [
    "exog_train"
   ]
  },
  {
   "cell_type": "code",
   "execution_count": 29,
   "metadata": {},
   "outputs": [
    {
     "data": {
      "text/plain": [
       "(464,)"
      ]
     },
     "execution_count": 29,
     "metadata": {},
     "output_type": "execute_result"
    }
   ],
   "source": [
    "train_set.shape"
   ]
  },
  {
   "cell_type": "code",
   "execution_count": 74,
   "metadata": {},
   "outputs": [],
   "source": [
    "out = np.concatenate([model.predict_in_sample(X=exog_train), model.predict(n_periods=36, X=exog_test)])"
   ]
  },
  {
   "cell_type": "code",
   "execution_count": 75,
   "metadata": {},
   "outputs": [],
   "source": [
    "data_aux = pd.DataFrame({'date': date_range, 'out': out })\n",
    "resultado_final = create_time_series(data_aux, start_date, end_date, var='out', freq=pd.offsets.Week(1))"
   ]
  },
  {
   "cell_type": "code",
   "execution_count": 51,
   "metadata": {},
   "outputs": [],
   "source": [
    "fitted = model.predict_in_sample(X=exog_train)\n",
    "previsao = model.predict(n_periods=24, X=exog_test)"
   ]
  },
  {
   "cell_type": "code",
   "execution_count": 57,
   "metadata": {},
   "outputs": [
    {
     "data": {
      "text/html": [
       "<div>\n",
       "<style scoped>\n",
       "    .dataframe tbody tr th:only-of-type {\n",
       "        vertical-align: middle;\n",
       "    }\n",
       "\n",
       "    .dataframe tbody tr th {\n",
       "        vertical-align: top;\n",
       "    }\n",
       "\n",
       "    .dataframe thead th {\n",
       "        text-align: right;\n",
       "    }\n",
       "</style>\n",
       "<table border=\"1\" class=\"dataframe\">\n",
       "  <thead>\n",
       "    <tr style=\"text-align: right;\">\n",
       "      <th></th>\n",
       "      <th>date</th>\n",
       "      <th>out</th>\n",
       "    </tr>\n",
       "  </thead>\n",
       "  <tbody>\n",
       "    <tr>\n",
       "      <th>0</th>\n",
       "      <td>2012-12-30</td>\n",
       "      <td>0.033097</td>\n",
       "    </tr>\n",
       "    <tr>\n",
       "      <th>1</th>\n",
       "      <td>2013-01-06</td>\n",
       "      <td>4.076752</td>\n",
       "    </tr>\n",
       "    <tr>\n",
       "      <th>2</th>\n",
       "      <td>2013-01-13</td>\n",
       "      <td>2.745571</td>\n",
       "    </tr>\n",
       "    <tr>\n",
       "      <th>3</th>\n",
       "      <td>2013-01-20</td>\n",
       "      <td>2.718671</td>\n",
       "    </tr>\n",
       "    <tr>\n",
       "      <th>4</th>\n",
       "      <td>2013-01-27</td>\n",
       "      <td>2.736041</td>\n",
       "    </tr>\n",
       "    <tr>\n",
       "      <th>...</th>\n",
       "      <td>...</td>\n",
       "      <td>...</td>\n",
       "    </tr>\n",
       "    <tr>\n",
       "      <th>483</th>\n",
       "      <td>2022-04-03</td>\n",
       "      <td>7.246632</td>\n",
       "    </tr>\n",
       "    <tr>\n",
       "      <th>484</th>\n",
       "      <td>2022-04-10</td>\n",
       "      <td>7.276500</td>\n",
       "    </tr>\n",
       "    <tr>\n",
       "      <th>485</th>\n",
       "      <td>2022-04-17</td>\n",
       "      <td>7.302215</td>\n",
       "    </tr>\n",
       "    <tr>\n",
       "      <th>486</th>\n",
       "      <td>2022-04-24</td>\n",
       "      <td>7.330231</td>\n",
       "    </tr>\n",
       "    <tr>\n",
       "      <th>487</th>\n",
       "      <td>2022-05-01</td>\n",
       "      <td>7.358355</td>\n",
       "    </tr>\n",
       "  </tbody>\n",
       "</table>\n",
       "<p>488 rows × 2 columns</p>\n",
       "</div>"
      ],
      "text/plain": [
       "          date       out\n",
       "0   2012-12-30  0.033097\n",
       "1   2013-01-06  4.076752\n",
       "2   2013-01-13  2.745571\n",
       "3   2013-01-20  2.718671\n",
       "4   2013-01-27  2.736041\n",
       "..         ...       ...\n",
       "483 2022-04-03  7.246632\n",
       "484 2022-04-10  7.276500\n",
       "485 2022-04-17  7.302215\n",
       "486 2022-04-24  7.330231\n",
       "487 2022-05-01  7.358355\n",
       "\n",
       "[488 rows x 2 columns]"
      ]
     },
     "execution_count": 57,
     "metadata": {},
     "output_type": "execute_result"
    }
   ],
   "source": [
    "data_aux"
   ]
  },
  {
   "cell_type": "code",
   "execution_count": 9,
   "metadata": {},
   "outputs": [
    {
     "ename": "NameError",
     "evalue": "name 'resultado_final' is not defined",
     "output_type": "error",
     "traceback": [
      "\u001b[1;31m---------------------------------------------------------------------------\u001b[0m",
      "\u001b[1;31mNameError\u001b[0m                                 Traceback (most recent call last)",
      "\u001b[1;32mc:\\Users\\Gabriel\\Documents\\MBAUSP\\TCC\\forecasting-code\\PriceForecastingModels\\forecast.ipynb Cell 41'\u001b[0m in \u001b[0;36m<module>\u001b[1;34m\u001b[0m\n\u001b[0;32m      <a href='vscode-notebook-cell:/c%3A/Users/Gabriel/Documents/MBAUSP/TCC/forecasting-code/PriceForecastingModels/forecast.ipynb#ch0000042?line=0'>1</a>\u001b[0m plt\u001b[39m.\u001b[39mfigure(figsize\u001b[39m=\u001b[39m(\u001b[39m18\u001b[39m,\u001b[39m8\u001b[39m))\n\u001b[1;32m----> <a href='vscode-notebook-cell:/c%3A/Users/Gabriel/Documents/MBAUSP/TCC/forecasting-code/PriceForecastingModels/forecast.ipynb#ch0000042?line=1'>2</a>\u001b[0m plt\u001b[39m.\u001b[39mplot(resultado_final)\n\u001b[0;32m      <a href='vscode-notebook-cell:/c%3A/Users/Gabriel/Documents/MBAUSP/TCC/forecasting-code/PriceForecastingModels/forecast.ipynb#ch0000042?line=2'>3</a>\u001b[0m plt\u001b[39m.\u001b[39mplot(time_series)\n\u001b[0;32m      <a href='vscode-notebook-cell:/c%3A/Users/Gabriel/Documents/MBAUSP/TCC/forecasting-code/PriceForecastingModels/forecast.ipynb#ch0000042?line=3'>4</a>\u001b[0m plt\u001b[39m.\u001b[39mshow()\n",
      "\u001b[1;31mNameError\u001b[0m: name 'resultado_final' is not defined"
     ]
    },
    {
     "data": {
      "text/plain": [
       "<Figure size 1296x576 with 0 Axes>"
      ]
     },
     "metadata": {},
     "output_type": "display_data"
    }
   ],
   "source": [
    "plt.figure(figsize=(18,8))\n",
    "plt.plot(resultado_final)\n",
    "plt.plot(time_series)\n",
    "plt.show()\n"
   ]
  },
  {
   "cell_type": "code",
   "execution_count": 19,
   "metadata": {},
   "outputs": [],
   "source": [
    "preds, conf_int = model.predict(n_periods=test_set.shape[0], return_conf_int=True)"
   ]
  },
  {
   "cell_type": "code",
   "execution_count": 27,
   "metadata": {},
   "outputs": [
    {
     "data": {
      "image/png": "[encoded data removed]",
      "text/plain": [
       "<Figure size 864x576 with 1 Axes>"
      ]
     },
     "metadata": {
      "needs_background": "light"
     },
     "output_type": "display_data"
    }
   ],
   "source": [
    "plt.figure(figsize=(12,8))\n",
    "plt.plot(preds)\n",
    "plt.show()"
   ]
  },
  {
   "cell_type": "code",
   "execution_count": 21,
   "metadata": {},
   "outputs": [
    {
     "data": {
      "text/plain": [
       "7"
      ]
     },
     "execution_count": 21,
     "metadata": {},
     "output_type": "execute_result"
    }
   ],
   "source": [
    "len(covid[:train_size])\n",
    "len(test_set)"
   ]
  },
  {
   "cell_type": "code",
   "execution_count": 22,
   "metadata": {},
   "outputs": [],
   "source": [
    "from statsmodels.tsa.arima.model import ARIMA\n",
    " \n",
    "arima = ARIMA(train_set, freq=\"MS\", order=(0,1,1),exog ).fit()\n",
    "arima_train_result = arima.predict()"
   ]
  },
  {
   "cell_type": "code",
   "execution_count": 23,
   "metadata": {},
   "outputs": [],
   "source": [
    "arima_test = ARIMA(test_set, freq=\"MS\", exog=covid[train_size:], order=(0,1,1)).fit(arima.params)\n",
    "arima_result = arima_test.predict()"
   ]
  },
  {
   "cell_type": "code",
   "execution_count": 24,
   "metadata": {},
   "outputs": [],
   "source": [
    "arima_final = ARIMA(data, freq=\"MS\", exog=covid, order=(0,1,1)).fit(arima.params)\n",
    "arima_final_result = arima_final.predict(steps=6, exog=[[0,0,0,0,0,0]])"
   ]
  },
  {
   "cell_type": "code",
   "execution_count": 25,
   "metadata": {},
   "outputs": [
    {
     "data": {
      "image/png": "[encoded data removed]",
      "text/plain": [
       "<Figure size 864x576 with 1 Axes>"
      ]
     },
     "metadata": {
      "needs_background": "light"
     },
     "output_type": "display_data"
    }
   ],
   "source": [
    "plt.figure(figsize=(12,8))\n",
    "plt.plot(train_set)\n",
    "plt.plot(test_set)\n",
    "plt.plot(arima_final_result)\n",
    "plt.show()"
   ]
  },
  {
   "cell_type": "code",
   "execution_count": 51,
   "metadata": {},
   "outputs": [
    {
     "data": {
      "text/plain": [
       "2.9139858699900527"
      ]
     },
     "execution_count": 51,
     "metadata": {},
     "output_type": "execute_result"
    }
   ],
   "source": [
    "def mean_absolute_percentage_error(y_true, y_pred):\n",
    "    y_true, y_pred = np.array(y_true), np.array(y_pred)\n",
    "    return np.mean(np.abs((y_true - y_pred) / y_true)) * 100\n",
    "\n",
    "test_set =test_set[1:]\n",
    "arima_result = arima_result[1:]\n",
    "mape = mean_absolute_percentage_error(test_set, arima_result)\n",
    "mape"
   ]
  },
  {
   "cell_type": "code",
   "execution_count": 52,
   "metadata": {},
   "outputs": [
    {
     "name": "stdout",
     "output_type": "stream",
     "text": [
      "Test RMSE: 0.200\n"
     ]
    }
   ],
   "source": [
    "from sklearn.metrics import mean_squared_error\n",
    "\n",
    "print(\"Test RMSE: %.3f\" % np.sqrt(mean_squared_error(test_set, arima_result)))"
   ]
  },
  {
   "cell_type": "code",
   "execution_count": 56,
   "metadata": {},
   "outputs": [
    {
     "data": {
      "text/html": [
       "<div>\n",
       "<style scoped>\n",
       "    .dataframe tbody tr th:only-of-type {\n",
       "        vertical-align: middle;\n",
       "    }\n",
       "\n",
       "    .dataframe tbody tr th {\n",
       "        vertical-align: top;\n",
       "    }\n",
       "\n",
       "    .dataframe thead th {\n",
       "        text-align: right;\n",
       "    }\n",
       "</style>\n",
       "<table border=\"1\" class=\"dataframe\">\n",
       "  <thead>\n",
       "    <tr style=\"text-align: right;\">\n",
       "      <th></th>\n",
       "      <th>lb_stat</th>\n",
       "      <th>lb_pvalue</th>\n",
       "    </tr>\n",
       "  </thead>\n",
       "  <tbody>\n",
       "    <tr>\n",
       "      <th>12</th>\n",
       "      <td>14.434743</td>\n",
       "      <td>0.273812</td>\n",
       "    </tr>\n",
       "  </tbody>\n",
       "</table>\n",
       "</div>"
      ],
      "text/plain": [
       "      lb_stat  lb_pvalue\n",
       "12  14.434743   0.273812"
      ]
     },
     "execution_count": 56,
     "metadata": {},
     "output_type": "execute_result"
    }
   ],
   "source": [
    "from statsmodels.stats.diagnostic import acorr_ljungbox\n",
    "\n",
    "##  Residuos não sao auto-correlacionados\n",
    "acorr_ljungbox(arima_test.resid[1:], lags=[12], return_df=True)"
   ]
  },
  {
   "cell_type": "code",
   "execution_count": 57,
   "metadata": {},
   "outputs": [
    {
     "data": {
      "text/plain": [
       "(0.07940657684056818, 0.80168250410451)"
      ]
     },
     "execution_count": 57,
     "metadata": {},
     "output_type": "execute_result"
    }
   ],
   "source": [
    "from statsmodels.stats.diagnostic import kstest_normal,het_arch\n",
    "# 2. Normalidade dos resíduos\n",
    "\n",
    "# p-valor =  0.0009999999999998899 < 0,01 - Rejeita-se H0, ou seja, resíduos não são normais\n",
    "kstest_normal(arima_test.resid[1:], dist='norm')\n"
   ]
  },
  {
   "cell_type": "code",
   "execution_count": 58,
   "metadata": {},
   "outputs": [
    {
     "data": {
      "text/plain": [
       "(1.8638868188302748,\n",
       " 0.9669882224465045,\n",
       " 0.20819968857526724,\n",
       " 0.9799463775404086)"
      ]
     },
     "execution_count": 58,
     "metadata": {},
     "output_type": "execute_result"
    }
   ],
   "source": [
    "from statsmodels.stats.diagnostic import het_arch\n",
    "\n",
    "##  0.27682059406368875 > 0.01, Aceita-se H0, não se rejeita a H0, garante a não existencia de efeitos ARCH\n",
    "#   Logo, a variância está estabilizada.\n",
    "het_arch(arima_test.resid[1:])"
   ]
  },
  {
   "cell_type": "code",
   "execution_count": 34,
   "metadata": {},
   "outputs": [
    {
     "data": {
      "image/png": "[encoded data removed]",
      "text/plain": [
       "<Figure size 864x576 with 4 Axes>"
      ]
     },
     "metadata": {
      "needs_background": "light"
     },
     "output_type": "display_data"
    }
   ],
   "source": [
    "arima_test.plot_diagnostics(figsize=(12,8))\n",
    "plt.show()"
   ]
  }
 ],
 "metadata": {
  "interpreter": {
   "hash": "f3d558277e1468fbd6155e81dfccdb965f1cd2a6d9d32bde37de1e4b5da945bd"
  },
  "kernelspec": {
   "display_name": "Python 3.10.0 64-bit",
   "language": "python",
   "name": "python3"
  },
  "language_info": {
   "codemirror_mode": {
    "name": "ipython",
    "version": 3
   },
   "file_extension": ".py",
   "mimetype": "text/x-python",
   "name": "python",
   "nbconvert_exporter": "python",
   "pygments_lexer": "ipython3",
   "version": "3.10.4"
  },
  "orig_nbformat": 4
 },
 "nbformat": 4,
 "nbformat_minor": 2
}
