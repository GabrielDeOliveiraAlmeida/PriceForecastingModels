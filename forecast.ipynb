{
 "cells": [
  {
   "cell_type": "code",
   "execution_count": 68,
   "metadata": {},
   "outputs": [],
   "source": [
    "import pandas as pd\n",
    "import numpy as np\n",
    "import matplotlib.pyplot as plt\n",
    "import openpyxl"
   ]
  },
  {
   "cell_type": "code",
   "execution_count": 44,
   "metadata": {},
   "outputs": [],
   "source": [
    "## Carregar base de dados e excluir dados desnecessários\n",
    "filename = 'semanal-regioes-desde-2013.xlsx'\n",
    "regional_database = pd.read_excel(\"semanal-regioes-desde-2013.xlsx\")\n",
    "regional_database = regional_database.drop(range(0, 16))\n",
    "headers = regional_database.iloc[0]\n",
    "regional_database = pd.DataFrame(regional_database.values[1:], columns=headers)"
   ]
  },
  {
   "cell_type": "code",
   "execution_count": 45,
   "metadata": {},
   "outputs": [],
   "source": [
    "## Excluir colunas desnecessárias\n",
    "regional_database = regional_database.drop([\n",
    "  'DATA FINAL',\n",
    "  'NÚMERO DE POSTOS PESQUISADOS', \n",
    "  'UNIDADE DE MEDIDA',\n",
    "  'DESVIO PADRÃO REVENDA',\n",
    "  'PREÇO MÍNIMO REVENDA',\n",
    "  'PREÇO MÁXIMO REVENDA',\n",
    "  'MARGEM MÉDIA REVENDA',\n",
    "  'COEF DE VARIAÇÃO REVENDA',\n",
    "  'PREÇO MÉDIO DISTRIBUIÇÃO',\n",
    "  'DESVIO PADRÃO DISTRIBUIÇÃO',\n",
    "  'PREÇO MÍNIMO DISTRIBUIÇÃO',\n",
    "  'PREÇO MÁXIMO DISTRIBUIÇÃO',\n",
    "  'COEF DE VARIAÇÃO DISTRIBUIÇÃO'],\n",
    "  axis=1\n",
    ")"
   ]
  },
  {
   "cell_type": "code",
   "execution_count": 55,
   "metadata": {},
   "outputs": [
    {
     "data": {
      "text/html": [
       "<div>\n",
       "<style scoped>\n",
       "    .dataframe tbody tr th:only-of-type {\n",
       "        vertical-align: middle;\n",
       "    }\n",
       "\n",
       "    .dataframe tbody tr th {\n",
       "        vertical-align: top;\n",
       "    }\n",
       "\n",
       "    .dataframe thead th {\n",
       "        text-align: right;\n",
       "    }\n",
       "</style>\n",
       "<table border=\"1\" class=\"dataframe\">\n",
       "  <thead>\n",
       "    <tr style=\"text-align: right;\">\n",
       "      <th>16</th>\n",
       "      <th>DATA INICIAL</th>\n",
       "      <th>REGIÃO</th>\n",
       "      <th>PRODUTO</th>\n",
       "      <th>PREÇO MÉDIO REVENDA</th>\n",
       "    </tr>\n",
       "  </thead>\n",
       "  <tbody>\n",
       "    <tr>\n",
       "      <th>8</th>\n",
       "      <td>2012-12-30</td>\n",
       "      <td>SUDESTE</td>\n",
       "      <td>GASOLINA COMUM</td>\n",
       "      <td>2.729</td>\n",
       "    </tr>\n",
       "    <tr>\n",
       "      <th>38</th>\n",
       "      <td>2013-01-06</td>\n",
       "      <td>SUDESTE</td>\n",
       "      <td>GASOLINA COMUM</td>\n",
       "      <td>2.737</td>\n",
       "    </tr>\n",
       "    <tr>\n",
       "      <th>67</th>\n",
       "      <td>2013-01-13</td>\n",
       "      <td>SUDESTE</td>\n",
       "      <td>GASOLINA COMUM</td>\n",
       "      <td>2.724</td>\n",
       "    </tr>\n",
       "  </tbody>\n",
       "</table>\n",
       "</div>"
      ],
      "text/plain": [
       "16 DATA INICIAL   REGIÃO         PRODUTO PREÇO MÉDIO REVENDA\n",
       "8    2012-12-30  SUDESTE  GASOLINA COMUM               2.729\n",
       "38   2013-01-06  SUDESTE  GASOLINA COMUM               2.737\n",
       "67   2013-01-13  SUDESTE  GASOLINA COMUM               2.724"
      ]
     },
     "execution_count": 55,
     "metadata": {},
     "output_type": "execute_result"
    }
   ],
   "source": [
    "## Filtrar dados de interesse\n",
    "database_filtered = regional_database[regional_database[\"REGIÃO\"] == 'SUDESTE']\n",
    "database_filtered = database_filtered[database_filtered[\"PRODUTO\"] == 'GASOLINA COMUM']\n",
    "\n",
    "database_filtered.head(3)"
   ]
  },
  {
   "cell_type": "code",
   "execution_count": 65,
   "metadata": {},
   "outputs": [
    {
     "data": {
      "text/html": [
       "<div>\n",
       "<style scoped>\n",
       "    .dataframe tbody tr th:only-of-type {\n",
       "        vertical-align: middle;\n",
       "    }\n",
       "\n",
       "    .dataframe tbody tr th {\n",
       "        vertical-align: top;\n",
       "    }\n",
       "\n",
       "    .dataframe thead th {\n",
       "        text-align: right;\n",
       "    }\n",
       "</style>\n",
       "<table border=\"1\" class=\"dataframe\">\n",
       "  <thead>\n",
       "    <tr style=\"text-align: right;\">\n",
       "      <th>16</th>\n",
       "      <th>date</th>\n",
       "      <th>region</th>\n",
       "      <th>product</th>\n",
       "      <th>price</th>\n",
       "    </tr>\n",
       "  </thead>\n",
       "  <tbody>\n",
       "    <tr>\n",
       "      <th>8</th>\n",
       "      <td>2012-12-30</td>\n",
       "      <td>SUDESTE</td>\n",
       "      <td>GASOLINA COMUM</td>\n",
       "      <td>2.729</td>\n",
       "    </tr>\n",
       "  </tbody>\n",
       "</table>\n",
       "</div>"
      ],
      "text/plain": [
       "16       date   region         product  price\n",
       "8  2012-12-30  SUDESTE  GASOLINA COMUM  2.729"
      ]
     },
     "execution_count": 65,
     "metadata": {},
     "output_type": "execute_result"
    }
   ],
   "source": [
    "## Renomear colunas\n",
    "database_filtered = database_filtered.rename(columns={'DATA INICIAL': 'date', 'REGIÃO': 'region', 'PRODUTO': 'product', 'PREÇO MÉDIO REVENDA': 'price'})\n",
    "database_filtered.head(1)"
   ]
  },
  {
   "cell_type": "code",
   "execution_count": 66,
   "metadata": {},
   "outputs": [],
   "source": [
    "database_filtered.to_excel('database.xlsx')"
   ]
  },
  {
   "cell_type": "code",
   "execution_count": 72,
   "metadata": {},
   "outputs": [
    {
     "data": {
      "image/png": "[encoded data removed]",
      "text/plain": [
       "<Figure size 432x288 with 1 Axes>"
      ]
     },
     "metadata": {
      "needs_background": "light"
     },
     "output_type": "display_data"
    }
   ],
   "source": [
    "plt.plot(database_filtered['date'], database_filtered['price']);\n",
    "plt.show()"
   ]
  }
 ],
 "metadata": {
  "interpreter": {
   "hash": "f3d558277e1468fbd6155e81dfccdb965f1cd2a6d9d32bde37de1e4b5da945bd"
  },
  "kernelspec": {
   "display_name": "Python 3.10.0 64-bit",
   "language": "python",
   "name": "python3"
  },
  "language_info": {
   "codemirror_mode": {
    "name": "ipython",
    "version": 3
   },
   "file_extension": ".py",
   "mimetype": "text/x-python",
   "name": "python",
   "nbconvert_exporter": "python",
   "pygments_lexer": "ipython3",
   "version": "3.10.0"
  },
  "orig_nbformat": 4
 },
 "nbformat": 4,
 "nbformat_minor": 2
}
