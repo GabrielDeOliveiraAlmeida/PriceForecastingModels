{
 "cells": [
  {
   "cell_type": "code",
   "execution_count": 1,
   "metadata": {},
   "outputs": [],
   "source": [
    "import pandas as pd\n",
    "import datetime\n",
    "\n",
    "from database import case_treatment, load_database_month, load_exog_dolar_database_month, load_exog_petroleum_database_month, load_exog_covid_month"
   ]
  },
  {
   "cell_type": "code",
   "execution_count": 2,
   "metadata": {},
   "outputs": [],
   "source": [
    "petrobras_db = load_database_month()\n",
    "petroleum_db = load_exog_petroleum_database_month()\n",
    "dolar_db = load_exog_dolar_database_month()\n",
    "covid_db = load_exog_covid_month()"
   ]
  },
  {
   "cell_type": "code",
   "execution_count": 3,
   "metadata": {},
   "outputs": [],
   "source": [
    "# Filtrar dados de interesse\n",
    "petrobras_db = petrobras_db[\n",
    "  (petrobras_db['product'] == \"GASOLINA COMUM\") &\n",
    "  (petrobras_db['state'] == 'SAO PAULO')\n",
    "]\n"
   ]
  },
  {
   "cell_type": "code",
   "execution_count": 4,
   "metadata": {},
   "outputs": [],
   "source": [
    "series = case_treatment(petrobras_db)"
   ]
  },
  {
   "cell_type": "code",
   "execution_count": 5,
   "metadata": {},
   "outputs": [],
   "source": [
    "new_database = pd.DataFrame({\n",
    "  'date': series.index,\n",
    "  'price': series.values,\n",
    "  'petroleum': petroleum_db['price'].values,\n",
    "  'dolar': dolar_db['price'].values,\n",
    "  'covid': dolar_db['price'].values\n",
    "})"
   ]
  },
  {
   "cell_type": "code",
   "execution_count": 6,
   "metadata": {},
   "outputs": [
    {
     "data": {
      "text/plain": [
       "date         0\n",
       "price        0\n",
       "petroleum    0\n",
       "dolar        0\n",
       "covid        0\n",
       "dtype: int64"
      ]
     },
     "execution_count": 6,
     "metadata": {},
     "output_type": "execute_result"
    }
   ],
   "source": [
    "new_database.isna().sum()"
   ]
  },
  {
   "cell_type": "code",
   "execution_count": 7,
   "metadata": {},
   "outputs": [],
   "source": [
    "new_database.to_csv('database_mensal.csv')"
   ]
  }
 ],
 "metadata": {
  "kernelspec": {
   "display_name": "Python 3.10.4 64-bit",
   "language": "python",
   "name": "python3"
  },
  "language_info": {
   "codemirror_mode": {
    "name": "ipython",
    "version": 3
   },
   "file_extension": ".py",
   "mimetype": "text/x-python",
   "name": "python",
   "nbconvert_exporter": "python",
   "pygments_lexer": "ipython3",
   "version": "3.10.4"
  },
  "orig_nbformat": 4,
  "vscode": {
   "interpreter": {
    "hash": "f3d558277e1468fbd6155e81dfccdb965f1cd2a6d9d32bde37de1e4b5da945bd"
   }
  }
 },
 "nbformat": 4,
 "nbformat_minor": 2
}
